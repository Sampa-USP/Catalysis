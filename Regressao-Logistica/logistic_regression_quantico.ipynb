{
 "cells": [
  {
   "cell_type": "code",
   "execution_count": 2,
   "id": "b876c6c5",
   "metadata": {},
   "outputs": [],
   "source": [
    "# %pip install amazon-braket-sdk pandas numpy scikit-learn --quiet\n",
    "\n",
    "import numpy as np\n",
    "import pandas as pd\n",
    "\n",
    "from braket.circuits import Circuit\n",
    "from braket.devices import LocalSimulator\n",
    "from braket.aws import AwsDevice, AwsSession\n",
    "\n",
    "from sklearn.model_selection import LeaveOneOut\n",
    "from sklearn.preprocessing import MinMaxScaler\n",
    "from sklearn.metrics import accuracy_score, confusion_matrix\n"
   ]
  },
  {
   "cell_type": "markdown",
   "id": "a26877cc",
   "metadata": {},
   "source": [
    "Ankaa-3 -> arn:aws:braket:us-west-1::device/qpu/rigetti/Ankaa-3\n",
    "Aquila -> arn:aws:braket:us-east-1::device/qpu/quera/Aquila\n",
    "Aria 1 -> arn:aws:braket:us-east-1::device/qpu/ionq/Aria-1\n",
    "Aria 2 -> arn:aws:braket:us-east-1::device/qpu/ionq/Aria-2\n",
    "Emerald -> arn:aws:braket:eu-north-1::device/qpu/iqm/Emerald\n",
    "Forte 1 -> arn:aws:braket:us-east-1::device/qpu/ionq/Forte-1\n",
    "Forte Enterprise 1 -> arn:aws:braket:us-east-1::device/qpu/ionq/Forte-Enterprise-1\n",
    "Garnet -> arn:aws:braket:eu-north-1::device/qpu/iqm/Garnet"
   ]
  },
  {
   "cell_type": "code",
   "execution_count": 5,
   "id": "bbfd0814",
   "metadata": {},
   "outputs": [
    {
     "name": "stdout",
     "output_type": "stream",
     "text": [
      "Device selecionado: Ankaa-3\n"
     ]
    }
   ],
   "source": [
    "USE_LOCAL = False  # True => LocalSimulator (rápido/grátis); False => AWS\n",
    "\n",
    "if USE_LOCAL:\n",
    "    device = LocalSimulator()\n",
    "else:\n",
    "    # SV1 (exemplo). Ajuste região/ARN conforme sua conta.\n",
    "    session = AwsSession()\n",
    "    device = AwsDevice(\"arn:aws:braket:us-west-1::device/qpu/rigetti/Ankaa-3\",\n",
    "                       aws_session=session)\n",
    "\n",
    "print(\"Device selecionado:\", getattr(device, \"name\", type(device).__name__))\n"
   ]
  },
  {
   "cell_type": "code",
   "execution_count": 6,
   "id": "526549b6",
   "metadata": {},
   "outputs": [
    {
     "name": "stdout",
     "output_type": "stream",
     "text": [
      "X_raw: (9, 4) y: (9,)\n"
     ]
    }
   ],
   "source": [
    "df = pd.read_csv(\"metal_features_reduzido_com_y.csv\")\n",
    "features = [\"Mendeleev\", \"Tmelt_K\", \"rcov_A\", \"d_band_center\"]\n",
    "\n",
    "X_raw = df[features].to_numpy(dtype=float)\n",
    "y      = df[\"y\"].to_numpy(dtype=int)\n",
    "metals = df[\"metal\"].astype(str).tolist()\n",
    "\n",
    "print(\"X_raw:\", X_raw.shape, \"y:\", y.shape)\n"
   ]
  },
  {
   "cell_type": "code",
   "execution_count": 7,
   "id": "15edf585",
   "metadata": {},
   "outputs": [],
   "source": [
    "def feature_map_circuit(x_norm, layers=1):\n",
    "    \"\"\"\n",
    "    x_norm: array shape (4,) com valores em [0,1]\n",
    "    Retorna um Circuit com:\n",
    "      - Angle encoding: RY(pi*x_i) em cada qubit\n",
    "      - Entanglement: CZ(0,1), CZ(1,2), CZ(2,3),\n",
    "      - 'layers' vezes\n",
    "    \"\"\"\n",
    "    assert len(x_norm) == 4\n",
    "    c = Circuit()\n",
    "    for _ in range(layers):\n",
    "        # angle encoding\n",
    "        for q, xi in enumerate(x_norm):\n",
    "            c.ry(q, np.pi * xi)\n",
    "        # entanglement chain\n",
    "        c.cz(0, 1).cz(1, 2).cz(2, 3)\n",
    "    # medição de todos os qubits (compatível com qualquer device)\n",
    "    c = c.measure(0).measure(1).measure(2).measure(3)\n",
    "    return c\n",
    "\n",
    "\n",
    "def expvals_z_from_counts(counts, n_qubits=4):\n",
    "    \"\"\"\n",
    "    Converte as contagens (dict bitstring->contagem) em <Z_i> para cada qubit i.\n",
    "    Convenção Braket: bitstring é little-endian (qubit 0 é o bit da direita).\n",
    "    Então usamos bit[-1-i] para acessar o qubit i.\n",
    "    \"\"\"\n",
    "    shots = sum(counts.values())\n",
    "    exp = np.zeros(n_qubits, dtype=float)\n",
    "    for bitstring, c in counts.items():\n",
    "        p = c / shots\n",
    "        for i in range(n_qubits):\n",
    "            bit_i = int(bitstring[-1 - i])  # qubit i é o bit da direita (little-endian)\n",
    "            exp[i] += (1.0 if bit_i == 0 else -1.0) * p\n",
    "    return exp  # vetor <Z_0>, <Z_1>, <Z_2>, <Z_3>\n",
    "\n",
    "\n",
    "def quantum_features(device, X_norm, shots=2000, layers=1):\n",
    "    \"\"\"\n",
    "    Calcula a matriz Φ (n_amostras x 4) com as expectativas <Z> por amostra.\n",
    "    Para cada x, executa um circuito e converte contagens em <Z>.\n",
    "    \"\"\"\n",
    "    Phi = np.zeros((len(X_norm), 4), dtype=float)\n",
    "    for i, x in enumerate(X_norm):\n",
    "        circ = feature_map_circuit(x, layers=layers)\n",
    "        task = device.run(circ, shots=shots)\n",
    "        counts = task.result().measurement_counts  # dict 'bitstring'->contagem\n",
    "        Phi[i] = expvals_z_from_counts(counts, n_qubits=4)\n",
    "    return Phi\n"
   ]
  },
  {
   "cell_type": "code",
   "execution_count": 8,
   "id": "4e71abe3",
   "metadata": {},
   "outputs": [
    {
     "name": "stdout",
     "output_type": "stream",
     "text": [
      "T  : │     0      │  1  │  2  │  3  │  4  │\n",
      "      ┌──────────┐                   ┌───┐ \n",
      "q0 : ─┤ Ry(0.00) ├───●───────────────┤ M ├─\n",
      "      └──────────┘   │               └───┘ \n",
      "      ┌──────────┐ ┌─┴─┐             ┌───┐ \n",
      "q1 : ─┤ Ry(2.40) ├─┤ Z ├───●─────────┤ M ├─\n",
      "      └──────────┘ └───┘   │         └───┘ \n",
      "      ┌──────────┐       ┌─┴─┐       ┌───┐ \n",
      "q2 : ─┤ Ry(2.57) ├───────┤ Z ├───●───┤ M ├─\n",
      "      └──────────┘       └───┘   │   └───┘ \n",
      "      ┌──────────┐             ┌─┴─┐ ┌───┐ \n",
      "q3 : ─┤ Ry(0.68) ├─────────────┤ Z ├─┤ M ├─\n",
      "      └──────────┘             └───┘ └───┘ \n",
      "T  : │     0      │  1  │  2  │  3  │  4  │\n"
     ]
    }
   ],
   "source": [
    "scaler_demo = MinMaxScaler().fit(X_raw)\n",
    "x_demo = scaler_demo.transform(X_raw[[0]])[0]\n",
    "print(feature_map_circuit(x_demo, layers=1))\n"
   ]
  },
  {
   "cell_type": "code",
   "execution_count": 9,
   "id": "52d0467c",
   "metadata": {},
   "outputs": [],
   "source": [
    "def sigmoid(z):\n",
    "    return 1.0 / (1.0 + np.exp(-z))\n",
    "\n",
    "def logloss(w, b, Phi, y):\n",
    "    z = Phi @ w + b\n",
    "    p = sigmoid(z)\n",
    "    eps = 1e-10\n",
    "    return -np.mean(y * np.log(p + eps) + (1 - y) * np.log(1 - p + eps))\n",
    "\n",
    "def logloss_grad(w, b, Phi, y):\n",
    "    z = Phi @ w + b\n",
    "    p = sigmoid(z)\n",
    "    n = Phi.shape[0]\n",
    "    grad_w = (Phi.T @ (p - y)) / n\n",
    "    grad_b = np.mean(p - y)\n",
    "    return grad_w, grad_b\n",
    "\n",
    "def fit_logreg(Phi, y, lr=0.3, epochs=400, w0=None, b0=0.0):\n",
    "    d = Phi.shape[1]\n",
    "    w = np.zeros(d) if w0 is None else w0.copy()\n",
    "    b = float(b0)\n",
    "    for _ in range(epochs):\n",
    "        gw, gb = logloss_grad(w, b, Phi, y)\n",
    "        w -= lr * gw\n",
    "        b -= lr * gb\n",
    "    return w, b\n",
    "\n",
    "def predict_logreg(w, b, phi_row, thr=0.5):\n",
    "    p1 = float(sigmoid(phi_row @ w + b))\n",
    "    return (1 if p1 >= thr else 0), p1\n"
   ]
  },
  {
   "cell_type": "code",
   "execution_count": null,
   "id": "643062d8",
   "metadata": {},
   "outputs": [
    {
     "name": "stdout",
     "output_type": "stream",
     "text": [
      "[QLR (pura) | Ankaa-3] LOO acc = 0.889\n",
      "Confusion [rows=true 0,1 ; cols=pred 0,1]:\n",
      " [[3 1]\n",
      " [0 5]]\n"
     ]
    },
    {
     "data": {
      "text/html": [
       "<div>\n",
       "<style scoped>\n",
       "    .dataframe tbody tr th:only-of-type {\n",
       "        vertical-align: middle;\n",
       "    }\n",
       "\n",
       "    .dataframe tbody tr th {\n",
       "        vertical-align: top;\n",
       "    }\n",
       "\n",
       "    .dataframe thead th {\n",
       "        text-align: right;\n",
       "    }\n",
       "</style>\n",
       "<table border=\"1\" class=\"dataframe\">\n",
       "  <thead>\n",
       "    <tr style=\"text-align: right;\">\n",
       "      <th></th>\n",
       "      <th>metal</th>\n",
       "      <th>y_true</th>\n",
       "      <th>qlr_pred</th>\n",
       "      <th>qlr_proba_1</th>\n",
       "      <th>ok</th>\n",
       "    </tr>\n",
       "  </thead>\n",
       "  <tbody>\n",
       "    <tr>\n",
       "      <th>0</th>\n",
       "      <td>Rh1</td>\n",
       "      <td>1</td>\n",
       "      <td>1</td>\n",
       "      <td>0.991</td>\n",
       "      <td>True</td>\n",
       "    </tr>\n",
       "    <tr>\n",
       "      <th>1</th>\n",
       "      <td>Ir1</td>\n",
       "      <td>1</td>\n",
       "      <td>1</td>\n",
       "      <td>0.749</td>\n",
       "      <td>True</td>\n",
       "    </tr>\n",
       "    <tr>\n",
       "      <th>2</th>\n",
       "      <td>Ni1</td>\n",
       "      <td>1</td>\n",
       "      <td>1</td>\n",
       "      <td>0.764</td>\n",
       "      <td>True</td>\n",
       "    </tr>\n",
       "    <tr>\n",
       "      <th>3</th>\n",
       "      <td>Pd1</td>\n",
       "      <td>1</td>\n",
       "      <td>1</td>\n",
       "      <td>0.727</td>\n",
       "      <td>True</td>\n",
       "    </tr>\n",
       "    <tr>\n",
       "      <th>4</th>\n",
       "      <td>Pt1</td>\n",
       "      <td>1</td>\n",
       "      <td>1</td>\n",
       "      <td>0.916</td>\n",
       "      <td>True</td>\n",
       "    </tr>\n",
       "    <tr>\n",
       "      <th>5</th>\n",
       "      <td>Cu1</td>\n",
       "      <td>0</td>\n",
       "      <td>1</td>\n",
       "      <td>0.603</td>\n",
       "      <td>False</td>\n",
       "    </tr>\n",
       "    <tr>\n",
       "      <th>6</th>\n",
       "      <td>Ag1</td>\n",
       "      <td>0</td>\n",
       "      <td>0</td>\n",
       "      <td>0.090</td>\n",
       "      <td>True</td>\n",
       "    </tr>\n",
       "    <tr>\n",
       "      <th>7</th>\n",
       "      <td>Au1</td>\n",
       "      <td>0</td>\n",
       "      <td>0</td>\n",
       "      <td>0.302</td>\n",
       "      <td>True</td>\n",
       "    </tr>\n",
       "    <tr>\n",
       "      <th>8</th>\n",
       "      <td>Pb1</td>\n",
       "      <td>0</td>\n",
       "      <td>0</td>\n",
       "      <td>0.194</td>\n",
       "      <td>True</td>\n",
       "    </tr>\n",
       "  </tbody>\n",
       "</table>\n",
       "</div>"
      ],
      "text/plain": [
       "  metal  y_true  qlr_pred  qlr_proba_1     ok\n",
       "0   Rh1       1         1        0.991   True\n",
       "1   Ir1       1         1        0.749   True\n",
       "2   Ni1       1         1        0.764   True\n",
       "3   Pd1       1         1        0.727   True\n",
       "4   Pt1       1         1        0.916   True\n",
       "5   Cu1       0         1        0.603  False\n",
       "6   Ag1       0         0        0.090   True\n",
       "7   Au1       0         0        0.302   True\n",
       "8   Pb1       0         0        0.194   True"
      ]
     },
     "metadata": {},
     "output_type": "display_data"
    }
   ],
   "source": [
    "SHOTS   = 1 #mudar para 2000     # QPU: 500–2000; Local/Simulador pode ser maior\n",
    "LAYERS  = 1        # 0/1/2 — profundidade do feature map; QPU: comece com 0 ou 1\n",
    "LR      = 0.3\n",
    "EPOCHS  = 0 #mudar para 400\n",
    "\n",
    "loo = LeaveOneOut()\n",
    "y_true, y_pred, y_prob = [], [], []\n",
    "\n",
    "for tr, te in loo.split(X_raw):\n",
    "    # Normaliza só no treino\n",
    "    scaler = MinMaxScaler().fit(X_raw[tr])\n",
    "    Xtr = scaler.transform(X_raw[tr])\n",
    "    Xte = scaler.transform(X_raw[te])\n",
    "\n",
    "    # Extrai Φ no device\n",
    "    Phi_tr = quantum_features(device, Xtr, shots=SHOTS, layers=LAYERS)  # (n_tr,4)\n",
    "    Phi_te = quantum_features(device, Xte, shots=SHOTS, layers=LAYERS)  # (1,4)\n",
    "\n",
    "    # Treina regressão logística clássica em Φ\n",
    "    w, b = fit_logreg(Phi_tr, y[tr], lr=LR, epochs=EPOCHS)\n",
    "\n",
    "    # Prediz o item de teste\n",
    "    yhat, p1 = predict_logreg(w, b, Phi_te[0])\n",
    "    y_true.append(y[te][0])\n",
    "    y_pred.append(yhat)\n",
    "    y_prob.append(p1)\n",
    "\n",
    "acc = accuracy_score(y_true, y_pred)\n",
    "cm  = confusion_matrix(y_true, y_pred, labels=[0,1])\n",
    "\n",
    "print(f\"[QLR (pura) | {getattr(device, 'name', type(device).__name__)}] LOO acc = {acc:.3f}\")\n",
    "print(\"Confusion [rows=true 0,1 ; cols=pred 0,1]:\\n\", cm)\n",
    "\n",
    "res = pd.DataFrame({\n",
    "    \"metal\": metals,\n",
    "    \"y_true\": y_true,\n",
    "    \"qlr_pred\": y_pred,\n",
    "    \"qlr_proba_1\": np.round(y_prob, 3),\n",
    "    \"ok\": (np.array(y_true) == np.array(y_pred))\n",
    "})\n",
    "display(res)\n"
   ]
  },
  {
   "cell_type": "code",
   "execution_count": 22,
   "id": "a40572a3",
   "metadata": {},
   "outputs": [
    {
     "data": {
      "image/png": "[encoded data removed]",
      "text/plain": [
       "<Figure size 400x400 with 2 Axes>"
      ]
     },
     "metadata": {},
     "output_type": "display_data"
    },
    {
     "data": {
      "image/png": "[encoded data removed]",
      "text/plain": [
       "<Figure size 400x400 with 2 Axes>"
      ]
     },
     "metadata": {},
     "output_type": "display_data"
    }
   ],
   "source": [
    "import matplotlib.pyplot as plt\n",
    "from sklearn.metrics import ConfusionMatrixDisplay\n",
    "\n",
    "# -----------------------------------------------------------\n",
    "# Confusion matrix Tabela 1\n",
    "# -----------------------------------------------------------\n",
    "cm1 = confusion_matrix(df1[\"y_true\"], df1[\"qlr_pred\"], labels=[0,1])\n",
    "disp1 = ConfusionMatrixDisplay(confusion_matrix=cm1, display_labels=[0,1])\n",
    "\n",
    "fig, ax = plt.subplots(figsize=(4,4))\n",
    "disp1.plot(ax=ax, cmap=\"Blues\", values_format=\"d\")\n",
    "plt.title(\"Matriz de Confusão - Ankaa-3\")\n",
    "plt.show()\n",
    "\n",
    "# -----------------------------------------------------------\n",
    "# Confusion matrix Tabela 2\n",
    "# -----------------------------------------------------------\n",
    "cm2 = confusion_matrix(df2[\"y_true\"], df2[\"qlr_pred\"], labels=[0,1])\n",
    "disp2 = ConfusionMatrixDisplay(confusion_matrix=cm2, display_labels=[0,1])\n",
    "\n",
    "fig, ax = plt.subplots(figsize=(4,4))\n",
    "disp2.plot(ax=ax, cmap=\"Greens\", values_format=\"d\")\n",
    "plt.title(\"Matriz de Confusão - SV1\")\n",
    "plt.show()\n"
   ]
  },
  {
   "attachments": {
    "image.png": {
     "image/png": "[encoded data removed]"
    }
   },
   "cell_type": "markdown",
   "id": "f7042c6b",
   "metadata": {},
   "source": [
    "![image.png](attachment:image.png)"
   ]
  },
  {
   "cell_type": "markdown",
   "id": "e3d95453",
   "metadata": {},
   "source": []
  },
  {
   "cell_type": "code",
   "execution_count": 17,
   "id": "72b147bd",
   "metadata": {},
   "outputs": [
    {
     "ename": "MissingOptionalLibraryError",
     "evalue": "\"The 'pylatexenc' library is required to use 'MatplotlibDrawer'. You can install it with 'pip install pylatexenc'.\"",
     "output_type": "error",
     "traceback": [
      "\u001b[31m---------------------------------------------------------------------------\u001b[39m",
      "\u001b[31mMissingOptionalLibraryError\u001b[39m               Traceback (most recent call last)",
      "\u001b[36mCell\u001b[39m\u001b[36m \u001b[39m\u001b[32mIn[17]\u001b[39m\u001b[32m, line 22\u001b[39m\n\u001b[32m     19\u001b[39m qc.measure([\u001b[32m0\u001b[39m,\u001b[32m1\u001b[39m,\u001b[32m2\u001b[39m,\u001b[32m3\u001b[39m], [\u001b[32m0\u001b[39m,\u001b[32m1\u001b[39m,\u001b[32m2\u001b[39m,\u001b[32m3\u001b[39m])\n\u001b[32m     21\u001b[39m \u001b[38;5;66;03m# Desenhar no estilo matplotlib (para artigo)\u001b[39;00m\n\u001b[32m---> \u001b[39m\u001b[32m22\u001b[39m \u001b[43mqc\u001b[49m\u001b[43m.\u001b[49m\u001b[43mdraw\u001b[49m\u001b[43m(\u001b[49m\u001b[33;43m\"\u001b[39;49m\u001b[33;43mmpl\u001b[39;49m\u001b[33;43m\"\u001b[39;49m\u001b[43m,\u001b[49m\u001b[43m \u001b[49m\u001b[43mfilename\u001b[49m\u001b[43m=\u001b[49m\u001b[33;43m\"\u001b[39;49m\u001b[33;43mfeature_map.png\u001b[39;49m\u001b[33;43m\"\u001b[39;49m\u001b[43m)\u001b[49m  \u001b[38;5;66;03m# salva a figura\u001b[39;00m\n",
      "\u001b[36mFile \u001b[39m\u001b[32m~/Repository/SAMPA-USP/Catalysis/.venv/lib/python3.12/site-packages/qiskit/circuit/quantumcircuit.py:3808\u001b[39m, in \u001b[36mQuantumCircuit.draw\u001b[39m\u001b[34m(self, output, scale, filename, style, interactive, plot_barriers, reverse_bits, justify, vertical_compression, idle_wires, with_layout, fold, ax, initial_state, cregbundle, wire_order, expr_len)\u001b[39m\n\u001b[32m   3805\u001b[39m \u001b[38;5;66;03m# pylint: disable=cyclic-import\u001b[39;00m\n\u001b[32m   3806\u001b[39m \u001b[38;5;28;01mfrom\u001b[39;00m\u001b[38;5;250m \u001b[39m\u001b[34;01mqiskit\u001b[39;00m\u001b[34;01m.\u001b[39;00m\u001b[34;01mvisualization\u001b[39;00m\u001b[38;5;250m \u001b[39m\u001b[38;5;28;01mimport\u001b[39;00m circuit_drawer\n\u001b[32m-> \u001b[39m\u001b[32m3808\u001b[39m \u001b[38;5;28;01mreturn\u001b[39;00m \u001b[43mcircuit_drawer\u001b[49m\u001b[43m(\u001b[49m\n\u001b[32m   3809\u001b[39m \u001b[43m    \u001b[49m\u001b[38;5;28;43mself\u001b[39;49m\u001b[43m,\u001b[49m\n\u001b[32m   3810\u001b[39m \u001b[43m    \u001b[49m\u001b[43mscale\u001b[49m\u001b[43m=\u001b[49m\u001b[43mscale\u001b[49m\u001b[43m,\u001b[49m\n\u001b[32m   3811\u001b[39m \u001b[43m    \u001b[49m\u001b[43mfilename\u001b[49m\u001b[43m=\u001b[49m\u001b[43mfilename\u001b[49m\u001b[43m,\u001b[49m\n\u001b[32m   3812\u001b[39m \u001b[43m    \u001b[49m\u001b[43mstyle\u001b[49m\u001b[43m=\u001b[49m\u001b[43mstyle\u001b[49m\u001b[43m,\u001b[49m\n\u001b[32m   3813\u001b[39m \u001b[43m    \u001b[49m\u001b[43moutput\u001b[49m\u001b[43m=\u001b[49m\u001b[43moutput\u001b[49m\u001b[43m,\u001b[49m\n\u001b[32m   3814\u001b[39m \u001b[43m    \u001b[49m\u001b[43minteractive\u001b[49m\u001b[43m=\u001b[49m\u001b[43minteractive\u001b[49m\u001b[43m,\u001b[49m\n\u001b[32m   3815\u001b[39m \u001b[43m    \u001b[49m\u001b[43mplot_barriers\u001b[49m\u001b[43m=\u001b[49m\u001b[43mplot_barriers\u001b[49m\u001b[43m,\u001b[49m\n\u001b[32m   3816\u001b[39m \u001b[43m    \u001b[49m\u001b[43mreverse_bits\u001b[49m\u001b[43m=\u001b[49m\u001b[43mreverse_bits\u001b[49m\u001b[43m,\u001b[49m\n\u001b[32m   3817\u001b[39m \u001b[43m    \u001b[49m\u001b[43mjustify\u001b[49m\u001b[43m=\u001b[49m\u001b[43mjustify\u001b[49m\u001b[43m,\u001b[49m\n\u001b[32m   3818\u001b[39m \u001b[43m    \u001b[49m\u001b[43mvertical_compression\u001b[49m\u001b[43m=\u001b[49m\u001b[43mvertical_compression\u001b[49m\u001b[43m,\u001b[49m\n\u001b[32m   3819\u001b[39m \u001b[43m    \u001b[49m\u001b[43midle_wires\u001b[49m\u001b[43m=\u001b[49m\u001b[43midle_wires\u001b[49m\u001b[43m,\u001b[49m\n\u001b[32m   3820\u001b[39m \u001b[43m    \u001b[49m\u001b[43mwith_layout\u001b[49m\u001b[43m=\u001b[49m\u001b[43mwith_layout\u001b[49m\u001b[43m,\u001b[49m\n\u001b[32m   3821\u001b[39m \u001b[43m    \u001b[49m\u001b[43mfold\u001b[49m\u001b[43m=\u001b[49m\u001b[43mfold\u001b[49m\u001b[43m,\u001b[49m\n\u001b[32m   3822\u001b[39m \u001b[43m    \u001b[49m\u001b[43max\u001b[49m\u001b[43m=\u001b[49m\u001b[43max\u001b[49m\u001b[43m,\u001b[49m\n\u001b[32m   3823\u001b[39m \u001b[43m    \u001b[49m\u001b[43minitial_state\u001b[49m\u001b[43m=\u001b[49m\u001b[43minitial_state\u001b[49m\u001b[43m,\u001b[49m\n\u001b[32m   3824\u001b[39m \u001b[43m    \u001b[49m\u001b[43mcregbundle\u001b[49m\u001b[43m=\u001b[49m\u001b[43mcregbundle\u001b[49m\u001b[43m,\u001b[49m\n\u001b[32m   3825\u001b[39m \u001b[43m    \u001b[49m\u001b[43mwire_order\u001b[49m\u001b[43m=\u001b[49m\u001b[43mwire_order\u001b[49m\u001b[43m,\u001b[49m\n\u001b[32m   3826\u001b[39m \u001b[43m    \u001b[49m\u001b[43mexpr_len\u001b[49m\u001b[43m=\u001b[49m\u001b[43mexpr_len\u001b[49m\u001b[43m,\u001b[49m\n\u001b[32m   3827\u001b[39m \u001b[43m\u001b[49m\u001b[43m)\u001b[49m\n",
      "\u001b[36mFile \u001b[39m\u001b[32m~/Repository/SAMPA-USP/Catalysis/.venv/lib/python3.12/site-packages/qiskit/visualization/circuit/circuit_visualization.py:339\u001b[39m, in \u001b[36mcircuit_drawer\u001b[39m\u001b[34m(circuit, scale, filename, style, output, interactive, plot_barriers, reverse_bits, justify, vertical_compression, idle_wires, with_layout, fold, ax, initial_state, cregbundle, wire_order, expr_len)\u001b[39m\n\u001b[32m    324\u001b[39m     \u001b[38;5;28;01mreturn\u001b[39;00m _generate_latex_source(\n\u001b[32m    325\u001b[39m         circuit,\n\u001b[32m    326\u001b[39m         filename=filename,\n\u001b[32m   (...)\u001b[39m\u001b[32m    336\u001b[39m         wire_order=complete_wire_order,\n\u001b[32m    337\u001b[39m     )\n\u001b[32m    338\u001b[39m \u001b[38;5;28;01melif\u001b[39;00m output == \u001b[33m\"\u001b[39m\u001b[33mmpl\u001b[39m\u001b[33m\"\u001b[39m:\n\u001b[32m--> \u001b[39m\u001b[32m339\u001b[39m     image = \u001b[43m_matplotlib_circuit_drawer\u001b[49m\u001b[43m(\u001b[49m\n\u001b[32m    340\u001b[39m \u001b[43m        \u001b[49m\u001b[43mcircuit\u001b[49m\u001b[43m,\u001b[49m\n\u001b[32m    341\u001b[39m \u001b[43m        \u001b[49m\u001b[43mscale\u001b[49m\u001b[43m=\u001b[49m\u001b[43mscale\u001b[49m\u001b[43m,\u001b[49m\n\u001b[32m    342\u001b[39m \u001b[43m        \u001b[49m\u001b[43mfilename\u001b[49m\u001b[43m=\u001b[49m\u001b[43mfilename\u001b[49m\u001b[43m,\u001b[49m\n\u001b[32m    343\u001b[39m \u001b[43m        \u001b[49m\u001b[43mstyle\u001b[49m\u001b[43m=\u001b[49m\u001b[43mstyle\u001b[49m\u001b[43m,\u001b[49m\n\u001b[32m    344\u001b[39m \u001b[43m        \u001b[49m\u001b[43mplot_barriers\u001b[49m\u001b[43m=\u001b[49m\u001b[43mplot_barriers\u001b[49m\u001b[43m,\u001b[49m\n\u001b[32m    345\u001b[39m \u001b[43m        \u001b[49m\u001b[43mreverse_bits\u001b[49m\u001b[43m=\u001b[49m\u001b[43mreverse_bits\u001b[49m\u001b[43m,\u001b[49m\n\u001b[32m    346\u001b[39m \u001b[43m        \u001b[49m\u001b[43mjustify\u001b[49m\u001b[43m=\u001b[49m\u001b[43mjustify\u001b[49m\u001b[43m,\u001b[49m\n\u001b[32m    347\u001b[39m \u001b[43m        \u001b[49m\u001b[43midle_wires\u001b[49m\u001b[43m=\u001b[49m\u001b[43midle_wires\u001b[49m\u001b[43m,\u001b[49m\n\u001b[32m    348\u001b[39m \u001b[43m        \u001b[49m\u001b[43mwith_layout\u001b[49m\u001b[43m=\u001b[49m\u001b[43mwith_layout\u001b[49m\u001b[43m,\u001b[49m\n\u001b[32m    349\u001b[39m \u001b[43m        \u001b[49m\u001b[43mfold\u001b[49m\u001b[43m=\u001b[49m\u001b[43mfold\u001b[49m\u001b[43m,\u001b[49m\n\u001b[32m    350\u001b[39m \u001b[43m        \u001b[49m\u001b[43max\u001b[49m\u001b[43m=\u001b[49m\u001b[43max\u001b[49m\u001b[43m,\u001b[49m\n\u001b[32m    351\u001b[39m \u001b[43m        \u001b[49m\u001b[43minitial_state\u001b[49m\u001b[43m=\u001b[49m\u001b[43minitial_state\u001b[49m\u001b[43m,\u001b[49m\n\u001b[32m    352\u001b[39m \u001b[43m        \u001b[49m\u001b[43mcregbundle\u001b[49m\u001b[43m=\u001b[49m\u001b[43mcregbundle\u001b[49m\u001b[43m,\u001b[49m\n\u001b[32m    353\u001b[39m \u001b[43m        \u001b[49m\u001b[43mwire_order\u001b[49m\u001b[43m=\u001b[49m\u001b[43mcomplete_wire_order\u001b[49m\u001b[43m,\u001b[49m\n\u001b[32m    354\u001b[39m \u001b[43m        \u001b[49m\u001b[43mexpr_len\u001b[49m\u001b[43m=\u001b[49m\u001b[43mexpr_len\u001b[49m\u001b[43m,\u001b[49m\n\u001b[32m    355\u001b[39m \u001b[43m    \u001b[49m\u001b[43m)\u001b[49m\n\u001b[32m    356\u001b[39m \u001b[38;5;28;01melse\u001b[39;00m:\n\u001b[32m    357\u001b[39m     \u001b[38;5;28;01mraise\u001b[39;00m VisualizationError(\n\u001b[32m    358\u001b[39m         \u001b[33mf\u001b[39m\u001b[33m\"\u001b[39m\u001b[33mInvalid output type \u001b[39m\u001b[38;5;132;01m{\u001b[39;00moutput\u001b[38;5;132;01m}\u001b[39;00m\u001b[33m selected. The only valid choices \u001b[39m\u001b[33m\"\u001b[39m\n\u001b[32m    359\u001b[39m         \u001b[33m\"\u001b[39m\u001b[33mare text, latex, latex_source, and mpl\u001b[39m\u001b[33m\"\u001b[39m\n\u001b[32m    360\u001b[39m     )\n",
      "\u001b[36mFile \u001b[39m\u001b[32m~/Repository/SAMPA-USP/Catalysis/.venv/lib/python3.12/site-packages/qiskit/visualization/circuit/circuit_visualization.py:719\u001b[39m, in \u001b[36m_matplotlib_circuit_drawer\u001b[39m\u001b[34m(circuit, scale, filename, style, plot_barriers, reverse_bits, justify, idle_wires, with_layout, fold, ax, initial_state, cregbundle, wire_order, expr_len)\u001b[39m\n\u001b[32m    716\u001b[39m \u001b[38;5;28;01mif\u001b[39;00m fold \u001b[38;5;129;01mis\u001b[39;00m \u001b[38;5;28;01mNone\u001b[39;00m:\n\u001b[32m    717\u001b[39m     fold = \u001b[32m25\u001b[39m\n\u001b[32m--> \u001b[39m\u001b[32m719\u001b[39m qcd = \u001b[43m_matplotlib\u001b[49m\u001b[43m.\u001b[49m\u001b[43mMatplotlibDrawer\u001b[49m\u001b[43m(\u001b[49m\n\u001b[32m    720\u001b[39m \u001b[43m    \u001b[49m\u001b[43mqubits\u001b[49m\u001b[43m,\u001b[49m\n\u001b[32m    721\u001b[39m \u001b[43m    \u001b[49m\u001b[43mclbits\u001b[49m\u001b[43m,\u001b[49m\n\u001b[32m    722\u001b[39m \u001b[43m    \u001b[49m\u001b[43mnodes\u001b[49m\u001b[43m,\u001b[49m\n\u001b[32m    723\u001b[39m \u001b[43m    \u001b[49m\u001b[43mcircuit\u001b[49m\u001b[43m,\u001b[49m\n\u001b[32m    724\u001b[39m \u001b[43m    \u001b[49m\u001b[43mscale\u001b[49m\u001b[43m=\u001b[49m\u001b[43mscale\u001b[49m\u001b[43m,\u001b[49m\n\u001b[32m    725\u001b[39m \u001b[43m    \u001b[49m\u001b[43mstyle\u001b[49m\u001b[43m=\u001b[49m\u001b[43mstyle\u001b[49m\u001b[43m,\u001b[49m\n\u001b[32m    726\u001b[39m \u001b[43m    \u001b[49m\u001b[43mreverse_bits\u001b[49m\u001b[43m=\u001b[49m\u001b[43mreverse_bits\u001b[49m\u001b[43m,\u001b[49m\n\u001b[32m    727\u001b[39m \u001b[43m    \u001b[49m\u001b[43mplot_barriers\u001b[49m\u001b[43m=\u001b[49m\u001b[43mplot_barriers\u001b[49m\u001b[43m,\u001b[49m\n\u001b[32m    728\u001b[39m \u001b[43m    \u001b[49m\u001b[43mfold\u001b[49m\u001b[43m=\u001b[49m\u001b[43mfold\u001b[49m\u001b[43m,\u001b[49m\n\u001b[32m    729\u001b[39m \u001b[43m    \u001b[49m\u001b[43max\u001b[49m\u001b[43m=\u001b[49m\u001b[43max\u001b[49m\u001b[43m,\u001b[49m\n\u001b[32m    730\u001b[39m \u001b[43m    \u001b[49m\u001b[43minitial_state\u001b[49m\u001b[43m=\u001b[49m\u001b[43minitial_state\u001b[49m\u001b[43m,\u001b[49m\n\u001b[32m    731\u001b[39m \u001b[43m    \u001b[49m\u001b[43mcregbundle\u001b[49m\u001b[43m=\u001b[49m\u001b[43mcregbundle\u001b[49m\u001b[43m,\u001b[49m\n\u001b[32m    732\u001b[39m \u001b[43m    \u001b[49m\u001b[43mwith_layout\u001b[49m\u001b[43m=\u001b[49m\u001b[43mwith_layout\u001b[49m\u001b[43m,\u001b[49m\n\u001b[32m    733\u001b[39m \u001b[43m    \u001b[49m\u001b[43mexpr_len\u001b[49m\u001b[43m=\u001b[49m\u001b[43mexpr_len\u001b[49m\u001b[43m,\u001b[49m\n\u001b[32m    734\u001b[39m \u001b[43m\u001b[49m\u001b[43m)\u001b[49m\n\u001b[32m    735\u001b[39m \u001b[38;5;28;01mreturn\u001b[39;00m qcd.draw(filename)\n",
      "\u001b[36mFile \u001b[39m\u001b[32m~/Repository/SAMPA-USP/Catalysis/.venv/lib/python3.12/site-packages/qiskit/utils/classtools.py:111\u001b[39m, in \u001b[36m_WrappedMethod.__get__.<locals>.out\u001b[39m\u001b[34m(*args, **kwargs)\u001b[39m\n\u001b[32m    108\u001b[39m \u001b[38;5;129m@functools\u001b[39m.wraps(method)\n\u001b[32m    109\u001b[39m \u001b[38;5;28;01mdef\u001b[39;00m\u001b[38;5;250m \u001b[39m\u001b[34mout\u001b[39m(*args, **kwargs):\n\u001b[32m    110\u001b[39m     \u001b[38;5;28;01mfor\u001b[39;00m callback \u001b[38;5;129;01min\u001b[39;00m \u001b[38;5;28mself\u001b[39m._before:\n\u001b[32m--> \u001b[39m\u001b[32m111\u001b[39m         \u001b[43mcallback\u001b[49m\u001b[43m.\u001b[49m\u001b[34;43m__get__\u001b[39;49m\u001b[43m(\u001b[49m\u001b[43mobj\u001b[49m\u001b[43m,\u001b[49m\u001b[43m \u001b[49m\u001b[43mobjtype\u001b[49m\u001b[43m)\u001b[49m\u001b[43m(\u001b[49m\u001b[43m*\u001b[49m\u001b[43margs\u001b[49m\u001b[43m,\u001b[49m\u001b[43m \u001b[49m\u001b[43m*\u001b[49m\u001b[43m*\u001b[49m\u001b[43mkwargs\u001b[49m\u001b[43m)\u001b[49m\n\u001b[32m    112\u001b[39m     retval = method(*args, **kwargs)\n\u001b[32m    113\u001b[39m     \u001b[38;5;28;01mfor\u001b[39;00m callback \u001b[38;5;129;01min\u001b[39;00m \u001b[38;5;28mself\u001b[39m._after:\n",
      "\u001b[36mFile \u001b[39m\u001b[32m~/Repository/SAMPA-USP/Catalysis/.venv/lib/python3.12/site-packages/qiskit/utils/lazy_tester.py:41\u001b[39m, in \u001b[36m_RequireNow.__call__\u001b[39m\u001b[34m(self, *_args, **_kwargs)\u001b[39m\n\u001b[32m     40\u001b[39m \u001b[38;5;28;01mdef\u001b[39;00m\u001b[38;5;250m \u001b[39m\u001b[34m__call__\u001b[39m(\u001b[38;5;28mself\u001b[39m, *_args, **_kwargs):\n\u001b[32m---> \u001b[39m\u001b[32m41\u001b[39m     \u001b[38;5;28;43mself\u001b[39;49m\u001b[43m.\u001b[49m\u001b[43m_tester\u001b[49m\u001b[43m.\u001b[49m\u001b[43mrequire_now\u001b[49m\u001b[43m(\u001b[49m\u001b[38;5;28;43mself\u001b[39;49m\u001b[43m.\u001b[49m\u001b[43m_feature\u001b[49m\u001b[43m)\u001b[49m\n",
      "\u001b[36mFile \u001b[39m\u001b[32m~/Repository/SAMPA-USP/Catalysis/.venv/lib/python3.12/site-packages/qiskit/utils/lazy_tester.py:221\u001b[39m, in \u001b[36mLazyDependencyManager.require_now\u001b[39m\u001b[34m(self, feature)\u001b[39m\n\u001b[32m    219\u001b[39m \u001b[38;5;28;01mif\u001b[39;00m \u001b[38;5;28mself\u001b[39m:\n\u001b[32m    220\u001b[39m     \u001b[38;5;28;01mreturn\u001b[39;00m\n\u001b[32m--> \u001b[39m\u001b[32m221\u001b[39m \u001b[38;5;28;01mraise\u001b[39;00m MissingOptionalLibraryError(\n\u001b[32m    222\u001b[39m     libname=\u001b[38;5;28mself\u001b[39m._name, name=feature, pip_install=\u001b[38;5;28mself\u001b[39m._install, msg=\u001b[38;5;28mself\u001b[39m._msg\n\u001b[32m    223\u001b[39m )\n",
      "\u001b[31mMissingOptionalLibraryError\u001b[39m: \"The 'pylatexenc' library is required to use 'MatplotlibDrawer'. You can install it with 'pip install pylatexenc'.\""
     ]
    }
   ],
   "source": [
    "from qiskit import QuantumCircuit\n",
    "from qiskit.visualization import circuit_drawer\n",
    "\n",
    "# Criar circuito com 4 qubits + 4 bits clássicos\n",
    "qc = QuantumCircuit(4, 4)\n",
    "\n",
    "# Rotations RY (valores aproximados do seu exemplo)\n",
    "qc.ry(0.00, 0)     # q0\n",
    "qc.ry(2.40, 1)     # q1\n",
    "qc.ry(2.57, 2)     # q2\n",
    "qc.ry(0.68, 3)     # q3\n",
    "\n",
    "# Cadeia de CZ (encadeamento como no seu diagrama)\n",
    "qc.cz(0, 1)\n",
    "qc.cz(1, 2)\n",
    "qc.cz(2, 3)\n",
    "\n",
    "# Medições\n",
    "qc.measure([0,1,2,3], [0,1,2,3])\n",
    "\n",
    "# Desenhar no estilo matplotlib (para artigo)\n",
    "qc.draw(\"mpl\", filename=\"feature_map.png\")  # salva a figura\n"
   ]
  },
  {
   "cell_type": "code",
   "execution_count": 15,
   "id": "47b27e20",
   "metadata": {},
   "outputs": [
    {
     "name": "stdout",
     "output_type": "stream",
     "text": [
      "Requirement already satisfied: pylatexenc in /home/nara/Repository/SAMPA-USP/Catalysis/.venv/lib/python3.12/site-packages (2.10)\n"
     ]
    }
   ],
   "source": [
    "!pip install pylatexenc\n"
   ]
  },
  {
   "cell_type": "code",
   "execution_count": null,
   "id": "89329e36",
   "metadata": {},
   "outputs": [],
   "source": []
  }
 ],
 "metadata": {
  "kernelspec": {
   "display_name": ".venv",
   "language": "python",
   "name": "python3"
  },
  "language_info": {
   "codemirror_mode": {
    "name": "ipython",
    "version": 3
   },
   "file_extension": ".py",
   "mimetype": "text/x-python",
   "name": "python",
   "nbconvert_exporter": "python",
   "pygments_lexer": "ipython3",
   "version": "3.12.3"
  }
 },
 "nbformat": 4,
 "nbformat_minor": 5
}
