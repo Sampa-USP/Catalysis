{
 "cells": [
  {
   "cell_type": "code",
   "execution_count": null,
   "id": "29579820",
   "metadata": {},
   "outputs": [],
   "source": []
  },
  {
   "cell_type": "markdown",
   "id": "928c1b34",
   "metadata": {},
   "source": [
    "hi"
   ]
  }
 ],
 "metadata": {
  "language_info": {
   "name": "python"
  }
 },
 "nbformat": 4,
 "nbformat_minor": 5
}
