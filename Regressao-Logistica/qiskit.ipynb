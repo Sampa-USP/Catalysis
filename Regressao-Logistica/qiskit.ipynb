{
 "cells": [
  {
   "cell_type": "code",
   "execution_count": null,
   "id": "1530b4dc",
   "metadata": {},
   "outputs": [],
   "source": [
    "# ----- IMPORTS -----\n",
    "# Circuitos e desenho\n",
    "from qiskit import QuantumCircuit\n",
    "from qiskit.visualization import circuit_drawer\n",
    "\n",
    "# NumPy para ângulos (opcional; aqui só para clareza)\n",
    "import numpy as np\n",
    "\n",
    "# Matplotlib para exibir/salvar a figura\n",
    "import matplotlib.pyplot as plt\n",
    "\n",
    "# ----- PARÂMETROS -----\n",
    "# Ângulos de rotação RY (em radianos) como na sua figura:\n",
    "theta_q0 = 0.00\n",
    "theta_q1 = 2.40\n",
    "theta_q2 = 2.57\n",
    "theta_q3 = 0.68\n",
    "\n",
    "# ----- CONSTRUIR O CIRCUITO -----\n",
    "# 4 qubits + 4 bits clássicos (para medir todos)\n",
    "qc = QuantumCircuit(4, 4)\n",
    "\n",
    "# RY em cada qubit (ordem q0..q3)\n",
    "qc.ry(theta_q0, 0)\n",
    "qc.ry(theta_q1, 1)\n",
    "qc.ry(theta_q2, 2)\n",
    "qc.ry(theta_q3, 3)\n",
    "\n",
    "# Cadeia de CZ: 0-1, 1-2, 2-3\n",
    "qc.cz(0, 1)\n",
    "qc.cz(1, 2)\n",
    "qc.cz(2, 3)\n",
    "\n",
    "# Medições\n",
    "qc.measure([0, 1, 2, 3], [0, 1, 2, 3])\n",
    "\n",
    "# ----- DESENHAR EM MPL -----\n",
    "fig = qc.draw(output=\"mpl\")            # desenha e retorna um Figure do matplotlib\n",
    "plt.show()                             # mostra no notebook\n",
    "\n",
    "# (opcional) salvar em alta qualidade\n",
    "fig.savefig(\"feature_map_qiskit.png\", dpi=300, bbox_inches=\"tight\")\n",
    "# fig.savefig(\"feature_map_qiskit.pdf\", bbox_inches=\"tight\")  # versão PDF vetorial\n",
    "# fig.savefig(\"feature_map_qiskit.svg\", bbox_inches=\"tight\")  # versão SVG\n"
   ]
  },
  {
   "cell_type": "code",
   "execution_count": null,
   "id": "96e34392",
   "metadata": {},
   "outputs": [],
   "source": []
  }
 ],
 "metadata": {
  "language_info": {
   "name": "python"
  }
 },
 "nbformat": 4,
 "nbformat_minor": 5
}
